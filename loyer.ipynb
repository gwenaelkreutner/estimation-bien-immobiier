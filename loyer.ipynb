{
 "cells": [
  {
   "cell_type": "markdown",
   "source": [
    "# Estimation d'un bien immobilier\n",
    "\n",
    "Suite un projet réalisé au début d'année sur l'immobilier en France avec un DashBoard qui affiche les secteurs les plus chers et dans quel secteur il faudrait investir dans l'année à venir. Nous nous sommes rendu compte que le coût du loyer de la maison dépend de nombreux facteurs tels que; la taille de la maison, le nombre de chambres, la localité, le nombre de salles de bains, de couloirs et de cuisines, l'état de l'ameublement et bien plus encore. Grâce à l'utilisation d'algorithmes d'apprentissage automatique appropriés, les propriétaires immobiliers peuvent trouver facilement la maison idéale en fonction des budgets et des préférences des clients.\n",
    "\n",
    "## Etat de l'art\n",
    "\n",
    "Le premier article (#[[1]]) présente une étude comparative de sept algorithmes de machine learning pour la prédiction des loyers immobiliers : la régression, le Perceptron Multi-Couches, Random Forest, KNN, Apprentissage pondéré local, SMO et KStar. L'étude est menée sur un ensemble de données contenant 21 attributs internes tels que la surface, le prix, le nombre de chambres/salles de bain, le classement scolaire, etc., pour trois types de maisons : unifamiliales, en rangée et condos.\n",
    "\n",
    "Le deuxième article (#[[2]]) propose LUCE, un modèle prédictif de valorisation immobilière basé sur l'apprentissage en continu. LUCE utilise un réseau de neurones pour extraire des informations abstraites à partir de données récentes de transactions immobilières. Les données sont organisées sous forme de graphe cubique où les nœuds représentent les entités immobilières et les attributs pertinents pour l'estimation de la valeur immobilière. Le modèle LUCE utilise également un réseau de mémoire à long terme (LSTM) pour modéliser les dépendances temporelles entre les données.\n",
    "\n",
    "Le troisième article (#[[3]]) présente des techniques de régression avec l'aide de bibliothèques Python pour prédire le prix d'une maison. Le modèle considère des aspects plus raffinés tels que le modèle de notation immobilière et utilise des techniques graphiques et numériques pour évaluer les prix des maisons.\n",
    "\n",
    "Le quatrième article (#[[4]]) utilise des approches de machine learning classiques ainsi que des modèles complexes pour prédire le prix des maisons. L'accent est mis sur la recherche des impacts des différents facteurs sur la prédiction des prix, y compris des facteurs tels que la localisation, la surface et la population.\n",
    "\n",
    "Le cinquième article (#[[5]]) propose un modèle de prédiction de prix de maison basé sur l'apprentissage profond. Le modèle utilise l'optimiseur Adam et la fonction d'activation ReLU pour extraire les caractéristiques importantes de l'ensemble de données. Il utilise également le modèle ARIMA pour prévoir les tendances futures des prix immobiliers."
   ],
   "metadata": {
    "collapsed": false
   }
  },
  {
   "cell_type": "markdown",
   "source": [],
   "metadata": {
    "collapsed": false
   }
  },
  {
   "cell_type": "code",
   "execution_count": 2,
   "metadata": {
    "collapsed": true
   },
   "outputs": [],
   "source": [
    "#import des modules nécessaires\n",
    "\n",
    "import numpy as np\n",
    "import pandas as pd\n",
    "import matplotlib.pyplot as plt\n",
    "import seaborn as sns"
   ]
  },
  {
   "cell_type": "markdown",
   "source": [
    "## Chargement des données"
   ],
   "metadata": {
    "collapsed": false
   }
  },
  {
   "cell_type": "code",
   "execution_count": 5,
   "outputs": [
    {
     "data": {
      "text/plain": "    Posted On  BHK   Rent  Size            Floor    Area Type  \\\n0  2022-05-18    2  10000  1100  Ground out of 2   Super Area   \n1  2022-05-13    2  20000   800       1 out of 3   Super Area   \n2  2022-05-16    2  17000  1000       1 out of 3   Super Area   \n3  2022-07-04    2  10000   800       1 out of 2   Super Area   \n4  2022-05-09    2   7500   850       1 out of 2  Carpet Area   \n\n              Area Locality     City Furnishing Status  Tenant Preferred  \\\n0                    Bandel  Kolkata       Unfurnished  Bachelors/Family   \n1  Phool Bagan, Kankurgachi  Kolkata    Semi-Furnished  Bachelors/Family   \n2   Salt Lake City Sector 2  Kolkata    Semi-Furnished  Bachelors/Family   \n3               Dumdum Park  Kolkata       Unfurnished  Bachelors/Family   \n4             South Dum Dum  Kolkata       Unfurnished         Bachelors   \n\n   Bathroom Point of Contact  \n0         2    Contact Owner  \n1         1    Contact Owner  \n2         1    Contact Owner  \n3         1    Contact Owner  \n4         1    Contact Owner  ",
      "text/html": "<div>\n<style scoped>\n    .dataframe tbody tr th:only-of-type {\n        vertical-align: middle;\n    }\n\n    .dataframe tbody tr th {\n        vertical-align: top;\n    }\n\n    .dataframe thead th {\n        text-align: right;\n    }\n</style>\n<table border=\"1\" class=\"dataframe\">\n  <thead>\n    <tr style=\"text-align: right;\">\n      <th></th>\n      <th>Posted On</th>\n      <th>BHK</th>\n      <th>Rent</th>\n      <th>Size</th>\n      <th>Floor</th>\n      <th>Area Type</th>\n      <th>Area Locality</th>\n      <th>City</th>\n      <th>Furnishing Status</th>\n      <th>Tenant Preferred</th>\n      <th>Bathroom</th>\n      <th>Point of Contact</th>\n    </tr>\n  </thead>\n  <tbody>\n    <tr>\n      <th>0</th>\n      <td>2022-05-18</td>\n      <td>2</td>\n      <td>10000</td>\n      <td>1100</td>\n      <td>Ground out of 2</td>\n      <td>Super Area</td>\n      <td>Bandel</td>\n      <td>Kolkata</td>\n      <td>Unfurnished</td>\n      <td>Bachelors/Family</td>\n      <td>2</td>\n      <td>Contact Owner</td>\n    </tr>\n    <tr>\n      <th>1</th>\n      <td>2022-05-13</td>\n      <td>2</td>\n      <td>20000</td>\n      <td>800</td>\n      <td>1 out of 3</td>\n      <td>Super Area</td>\n      <td>Phool Bagan, Kankurgachi</td>\n      <td>Kolkata</td>\n      <td>Semi-Furnished</td>\n      <td>Bachelors/Family</td>\n      <td>1</td>\n      <td>Contact Owner</td>\n    </tr>\n    <tr>\n      <th>2</th>\n      <td>2022-05-16</td>\n      <td>2</td>\n      <td>17000</td>\n      <td>1000</td>\n      <td>1 out of 3</td>\n      <td>Super Area</td>\n      <td>Salt Lake City Sector 2</td>\n      <td>Kolkata</td>\n      <td>Semi-Furnished</td>\n      <td>Bachelors/Family</td>\n      <td>1</td>\n      <td>Contact Owner</td>\n    </tr>\n    <tr>\n      <th>3</th>\n      <td>2022-07-04</td>\n      <td>2</td>\n      <td>10000</td>\n      <td>800</td>\n      <td>1 out of 2</td>\n      <td>Super Area</td>\n      <td>Dumdum Park</td>\n      <td>Kolkata</td>\n      <td>Unfurnished</td>\n      <td>Bachelors/Family</td>\n      <td>1</td>\n      <td>Contact Owner</td>\n    </tr>\n    <tr>\n      <th>4</th>\n      <td>2022-05-09</td>\n      <td>2</td>\n      <td>7500</td>\n      <td>850</td>\n      <td>1 out of 2</td>\n      <td>Carpet Area</td>\n      <td>South Dum Dum</td>\n      <td>Kolkata</td>\n      <td>Unfurnished</td>\n      <td>Bachelors</td>\n      <td>1</td>\n      <td>Contact Owner</td>\n    </tr>\n  </tbody>\n</table>\n</div>"
     },
     "execution_count": 5,
     "metadata": {},
     "output_type": "execute_result"
    }
   ],
   "source": [
    "df = pd.read_csv(\"data/House_Rent_Dataset.csv\")\n",
    "df.head()"
   ],
   "metadata": {
    "collapsed": false,
    "pycharm": {
     "name": "#%%\n"
    }
   }
  },
  {
   "cell_type": "code",
   "execution_count": 10,
   "outputs": [
    {
     "data": {
      "text/plain": "Posted On            0\nBHK                  0\nRent                 0\nSize                 0\nFloor                0\nArea Type            0\nArea Locality        0\nCity                 0\nFurnishing Status    0\nTenant Preferred     0\nBathroom             0\nPoint of Contact     0\ndtype: int64"
     },
     "execution_count": 10,
     "metadata": {},
     "output_type": "execute_result"
    }
   ],
   "source": [
    "# Vérification si il y a des valeurs null ou des doublons\n",
    "df.isna().sum()"
   ],
   "metadata": {
    "collapsed": false,
    "pycharm": {
     "name": "#%%\n"
    }
   }
  },
  {
   "cell_type": "markdown",
   "source": [],
   "metadata": {
    "collapsed": false,
    "pycharm": {
     "name": "#%% md\n"
    }
   }
  },
  {
   "cell_type": "markdown",
   "source": [
    "## References\n",
    "<a id=\"1\">[1]</a>\n",
    "Maryam Heidari;Samira Zad;Setareh Rafatirad; (2021).\n",
    "Ensemble of Supervised and Unsupervised Learning Models to Predict a ProfitableBusiness Decision . 2021 IEEE International IOT, Electronics and Mechatronics Conference (AIMTRONICS), (), –.\n",
    "doi:10.1109/iemtronics52119.2021.9422649\n",
    "\n",
    "<a id=\"1\">[2]</a>\n",
    "Azme Bin Khamis, Nur K.K.B. Kamarudin. Compara-tive Study On\n",
    "Estimate House Price Using Statistical And Neural Network Model.\n",
    "International Journal of Scientific Technology Research 3.12 (2014):\n",
    "126-131.\n",
    "\n",
    "<a id=\"1\">[3]</a>\n",
    "Truong, Quang; Nguyen, Minh; Dang, Hy; Mei, Bo (2020).\n",
    "Housing Price Prediction via Improved Machine Learning Techniques. Procedia\n",
    "Computer Science, 174(), 433–442.\n",
    "\n",
    "<a id=\"1\">[4]</a>\n",
    "Visit Limsombunchai, Christopher Gan, Minsoo Lee. House price prediction: hedonic price model vs. artificial neural network. New Zealand\n",
    "Agricultural and Resource Economics Society Conference. (2004)."
   ],
   "metadata": {
    "collapsed": false,
    "pycharm": {
     "name": "#%% md\n"
    }
   }
  }
 ],
 "metadata": {
  "kernelspec": {
   "display_name": "Python 3",
   "language": "python",
   "name": "python3"
  },
  "language_info": {
   "codemirror_mode": {
    "name": "ipython",
    "version": 2
   },
   "file_extension": ".py",
   "mimetype": "text/x-python",
   "name": "python",
   "nbconvert_exporter": "python",
   "pygments_lexer": "ipython2",
   "version": "2.7.6"
  }
 },
 "nbformat": 4,
 "nbformat_minor": 0
}